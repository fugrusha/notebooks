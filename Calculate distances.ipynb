{
 "cells": [
  {
   "cell_type": "code",
   "execution_count": 1,
   "metadata": {},
   "outputs": [],
   "source": [
    "#!pip install --user Fiona-1.8.6-cp37-cp37m-win_amd64.whl\n",
    "#!pip install --user Shapely-1.6.4.post2-cp37-cp37m-win_amd64.whl\n",
    "#!pip install --user GDAL-2.4.1-cp37-cp37m-win_amd64.whl"
   ]
  },
  {
   "cell_type": "code",
   "execution_count": 1,
   "metadata": {},
   "outputs": [],
   "source": [
    "import xosrm\n",
    "from libfunc import *\n",
    "import pandas as pd\n",
    "import os\n",
    "from IPython.display import display"
   ]
  },
  {
   "cell_type": "code",
   "execution_count": 20,
   "metadata": {},
   "outputs": [],
   "source": [
    "schedule_data = open_excel_file(\n",
    "    file_path='C:\\\\Users\\\\andre\\\\OneDrive\\\\Рабочий стол\\\\sav\\\\iorder\\\\VN_iorder_Косарев.xlsx')\n",
    "# Dict of coordinate for each day\n",
    "full_dict = schedule(schedule_data)"
   ]
  },
  {
   "cell_type": "code",
   "execution_count": 3,
   "metadata": {
    "collapsed": true
   },
   "outputs": [
    {
     "data": {
      "text/html": [
       "<div>\n",
       "<style scoped>\n",
       "    .dataframe tbody tr th:only-of-type {\n",
       "        vertical-align: middle;\n",
       "    }\n",
       "\n",
       "    .dataframe tbody tr th {\n",
       "        vertical-align: top;\n",
       "    }\n",
       "\n",
       "    .dataframe thead th {\n",
       "        text-align: right;\n",
       "    }\n",
       "</style>\n",
       "<table border=\"1\" class=\"dataframe\">\n",
       "  <thead>\n",
       "    <tr style=\"text-align: right;\">\n",
       "      <th></th>\n",
       "      <th>1-monday</th>\n",
       "      <th>2-tuesday</th>\n",
       "      <th>3-wednesday</th>\n",
       "      <th>4-thursday</th>\n",
       "      <th>5-friday</th>\n",
       "    </tr>\n",
       "  </thead>\n",
       "  <tbody>\n",
       "    <tr>\n",
       "      <th>even_part_of_coords</th>\n",
       "      <td>885.4109</td>\n",
       "      <td>905.9279</td>\n",
       "      <td>875.5211</td>\n",
       "      <td>958.5975</td>\n",
       "      <td>899.3688</td>\n",
       "    </tr>\n",
       "    <tr>\n",
       "      <th>odd_part_of_coords</th>\n",
       "      <td>887.3683</td>\n",
       "      <td>905.1207</td>\n",
       "      <td>870.8273</td>\n",
       "      <td>955.8857</td>\n",
       "      <td>882.6220</td>\n",
       "    </tr>\n",
       "  </tbody>\n",
       "</table>\n",
       "</div>"
      ],
      "text/plain": [
       "                     1-monday  2-tuesday  3-wednesday  4-thursday  5-friday\n",
       "even_part_of_coords  885.4109   905.9279     875.5211    958.5975  899.3688\n",
       "odd_part_of_coords   887.3683   905.1207     870.8273    955.8857  882.6220"
      ]
     },
     "metadata": {},
     "output_type": "display_data"
    },
    {
     "data": {
      "text/html": [
       "<div>\n",
       "<style scoped>\n",
       "    .dataframe tbody tr th:only-of-type {\n",
       "        vertical-align: middle;\n",
       "    }\n",
       "\n",
       "    .dataframe tbody tr th {\n",
       "        vertical-align: top;\n",
       "    }\n",
       "\n",
       "    .dataframe thead th {\n",
       "        text-align: right;\n",
       "    }\n",
       "</style>\n",
       "<table border=\"1\" class=\"dataframe\">\n",
       "  <thead>\n",
       "    <tr style=\"text-align: right;\">\n",
       "      <th></th>\n",
       "      <th>1-monday</th>\n",
       "      <th>2-tuesday</th>\n",
       "      <th>3-wednesday</th>\n",
       "      <th>4-thursday</th>\n",
       "      <th>5-friday</th>\n",
       "    </tr>\n",
       "  </thead>\n",
       "  <tbody>\n",
       "    <tr>\n",
       "      <th>even_part_of_coords</th>\n",
       "      <td>877.5063</td>\n",
       "      <td>893.4162</td>\n",
       "      <td>862.2244</td>\n",
       "      <td>963.2426</td>\n",
       "      <td>874.1797</td>\n",
       "    </tr>\n",
       "    <tr>\n",
       "      <th>odd_part_of_coords</th>\n",
       "      <td>877.1112</td>\n",
       "      <td>891.6605</td>\n",
       "      <td>864.8232</td>\n",
       "      <td>947.7129</td>\n",
       "      <td>865.0977</td>\n",
       "    </tr>\n",
       "  </tbody>\n",
       "</table>\n",
       "</div>"
      ],
      "text/plain": [
       "                     1-monday  2-tuesday  3-wednesday  4-thursday  5-friday\n",
       "even_part_of_coords  877.5063   893.4162     862.2244    963.2426  874.1797\n",
       "odd_part_of_coords   877.1112   891.6605     864.8232    947.7129  865.0977"
      ]
     },
     "metadata": {},
     "output_type": "display_data"
    },
    {
     "data": {
      "text/plain": [
       "{'first_month_part': {'even_part_of_coords': {'1-monday': 885.4109,\n",
       "   '2-tuesday': 905.9279,\n",
       "   '3-wednesday': 875.5210999999999,\n",
       "   '4-thursday': 958.5975,\n",
       "   '5-friday': 899.3688000000001},\n",
       "  'odd_part_of_coords': {'1-monday': 887.3683000000001,\n",
       "   '2-tuesday': 905.1206999999999,\n",
       "   '3-wednesday': 870.8273,\n",
       "   '4-thursday': 955.8856999999999,\n",
       "   '5-friday': 882.622}},\n",
       " 'second_month_part': {'even_part_of_coords': {'1-monday': 877.5063,\n",
       "   '2-tuesday': 893.4162,\n",
       "   '3-wednesday': 862.2244000000001,\n",
       "   '4-thursday': 963.2425999999999,\n",
       "   '5-friday': 874.1796999999999},\n",
       "  'odd_part_of_coords': {'1-monday': 877.1111999999999,\n",
       "   '2-tuesday': 891.6605,\n",
       "   '3-wednesday': 864.8231999999999,\n",
       "   '4-thursday': 947.7129,\n",
       "   '5-friday': 865.0976999999999}}}"
      ]
     },
     "execution_count": 3,
     "metadata": {},
     "output_type": "execute_result"
    }
   ],
   "source": [
    "''' \n",
    "Расчет пробега на каждый день недели для точек в заданом порядке\n",
    "Расписание НЕ ДОЛЖНО содержать ТТ Новый для КПК\n",
    "Вывод: словарь дистанций\n",
    "'''\n",
    "\n",
    "# Координаты точки отправления и прибытия (офиса)\n",
    "source = [28.5673, 49.2226]\n",
    "dest = [28.5673, 49.2226]\n",
    "\n",
    "data = calc_dist(full_dict)\n",
    "display(df_first(data))\n",
    "display(df_second(data))"
   ]
  },
  {
   "cell_type": "code",
   "execution_count": 21,
   "metadata": {
    "scrolled": true
   },
   "outputs": [
    {
     "data": {
      "text/html": [
       "<div>\n",
       "<style scoped>\n",
       "    .dataframe tbody tr th:only-of-type {\n",
       "        vertical-align: middle;\n",
       "    }\n",
       "\n",
       "    .dataframe tbody tr th {\n",
       "        vertical-align: top;\n",
       "    }\n",
       "\n",
       "    .dataframe thead th {\n",
       "        text-align: right;\n",
       "    }\n",
       "</style>\n",
       "<table border=\"1\" class=\"dataframe\">\n",
       "  <thead>\n",
       "    <tr style=\"text-align: right;\">\n",
       "      <th></th>\n",
       "      <th>1-monday</th>\n",
       "      <th>2-tuesday</th>\n",
       "      <th>3-wednesday</th>\n",
       "      <th>4-thursday</th>\n",
       "      <th>5-friday</th>\n",
       "    </tr>\n",
       "  </thead>\n",
       "  <tbody>\n",
       "    <tr>\n",
       "      <th>even_part_of_coords</th>\n",
       "      <td>230.4240</td>\n",
       "      <td>0.0000</td>\n",
       "      <td>238.6798</td>\n",
       "      <td>0.0000</td>\n",
       "      <td>0.0000</td>\n",
       "    </tr>\n",
       "    <tr>\n",
       "      <th>odd_part_of_coords</th>\n",
       "      <td>231.2874</td>\n",
       "      <td>58.9348</td>\n",
       "      <td>232.0578</td>\n",
       "      <td>253.8673</td>\n",
       "      <td>239.5475</td>\n",
       "    </tr>\n",
       "  </tbody>\n",
       "</table>\n",
       "</div>"
      ],
      "text/plain": [
       "                     1-monday  2-tuesday  3-wednesday  4-thursday  5-friday\n",
       "even_part_of_coords  230.4240     0.0000     238.6798      0.0000    0.0000\n",
       "odd_part_of_coords   231.2874    58.9348     232.0578    253.8673  239.5475"
      ]
     },
     "metadata": {},
     "output_type": "display_data"
    },
    {
     "data": {
      "text/html": [
       "<div>\n",
       "<style scoped>\n",
       "    .dataframe tbody tr th:only-of-type {\n",
       "        vertical-align: middle;\n",
       "    }\n",
       "\n",
       "    .dataframe tbody tr th {\n",
       "        vertical-align: top;\n",
       "    }\n",
       "\n",
       "    .dataframe thead th {\n",
       "        text-align: right;\n",
       "    }\n",
       "</style>\n",
       "<table border=\"1\" class=\"dataframe\">\n",
       "  <thead>\n",
       "    <tr style=\"text-align: right;\">\n",
       "      <th></th>\n",
       "      <th>1-monday</th>\n",
       "      <th>3-wednesday</th>\n",
       "    </tr>\n",
       "  </thead>\n",
       "  <tbody>\n",
       "    <tr>\n",
       "      <th>even_part_of_coords</th>\n",
       "      <td>230.4240</td>\n",
       "      <td>238.6798</td>\n",
       "    </tr>\n",
       "    <tr>\n",
       "      <th>odd_part_of_coords</th>\n",
       "      <td>230.6847</td>\n",
       "      <td>232.0578</td>\n",
       "    </tr>\n",
       "  </tbody>\n",
       "</table>\n",
       "</div>"
      ],
      "text/plain": [
       "                     1-monday  3-wednesday\n",
       "even_part_of_coords  230.4240     238.6798\n",
       "odd_part_of_coords   230.6847     232.0578"
      ]
     },
     "metadata": {},
     "output_type": "display_data"
    }
   ],
   "source": [
    "''' \n",
    "Расчет TRIP_ROUTE (Жадный алгоритм)\n",
    "асчет пробега на каждый день недели для точек с оптимальной последовательностью\n",
    "Расписание ДОЛЖНО содержать Новый для КПК первой точкой на день с индесом 0 или 1\n",
    "Вывод: словарь дистанций\n",
    "'''    \n",
    "# вызов функции\n",
    "data = calc_trips(full_dict)\n",
    "# Отображение таблиц\n",
    "display(df_first(data))\n",
    "display(df_second(data))\n"
   ]
  },
  {
   "cell_type": "code",
   "execution_count": 19,
   "metadata": {
    "scrolled": true
   },
   "outputs": [
    {
     "name": "stdout",
     "output_type": "stream",
     "text": [
      "iorder  -  DP_iorder_Боженко\n",
      "Первая половина месяца:\n"
     ]
    },
    {
     "data": {
      "text/html": [
       "<div>\n",
       "<style scoped>\n",
       "    .dataframe tbody tr th:only-of-type {\n",
       "        vertical-align: middle;\n",
       "    }\n",
       "\n",
       "    .dataframe tbody tr th {\n",
       "        vertical-align: top;\n",
       "    }\n",
       "\n",
       "    .dataframe thead th {\n",
       "        text-align: right;\n",
       "    }\n",
       "</style>\n",
       "<table border=\"1\" class=\"dataframe\">\n",
       "  <thead>\n",
       "    <tr style=\"text-align: right;\">\n",
       "      <th></th>\n",
       "      <th>1-monday</th>\n",
       "      <th>2-tuesday</th>\n",
       "      <th>3-wednesday</th>\n",
       "      <th>4-thursday</th>\n",
       "      <th>5-friday</th>\n",
       "    </tr>\n",
       "  </thead>\n",
       "  <tbody>\n",
       "    <tr>\n",
       "      <th>even_part_of_coords</th>\n",
       "      <td>103.8868</td>\n",
       "      <td>0.0000</td>\n",
       "      <td>17.4726</td>\n",
       "      <td>88.2912</td>\n",
       "      <td>257.6436</td>\n",
       "    </tr>\n",
       "    <tr>\n",
       "      <th>odd_part_of_coords</th>\n",
       "      <td>117.7402</td>\n",
       "      <td>276.2076</td>\n",
       "      <td>0.0000</td>\n",
       "      <td>82.4906</td>\n",
       "      <td>277.1025</td>\n",
       "    </tr>\n",
       "  </tbody>\n",
       "</table>\n",
       "</div>"
      ],
      "text/plain": [
       "                     1-monday  2-tuesday  3-wednesday  4-thursday  5-friday\n",
       "even_part_of_coords  103.8868     0.0000      17.4726     88.2912  257.6436\n",
       "odd_part_of_coords   117.7402   276.2076       0.0000     82.4906  277.1025"
      ]
     },
     "metadata": {},
     "output_type": "display_data"
    },
    {
     "name": "stdout",
     "output_type": "stream",
     "text": [
      "Вторая половина месяца:\n"
     ]
    },
    {
     "data": {
      "text/html": [
       "<div>\n",
       "<style scoped>\n",
       "    .dataframe tbody tr th:only-of-type {\n",
       "        vertical-align: middle;\n",
       "    }\n",
       "\n",
       "    .dataframe tbody tr th {\n",
       "        vertical-align: top;\n",
       "    }\n",
       "\n",
       "    .dataframe thead th {\n",
       "        text-align: right;\n",
       "    }\n",
       "</style>\n",
       "<table border=\"1\" class=\"dataframe\">\n",
       "  <thead>\n",
       "    <tr style=\"text-align: right;\">\n",
       "      <th></th>\n",
       "      <th>1-monday</th>\n",
       "      <th>2-tuesday</th>\n",
       "      <th>3-wednesday</th>\n",
       "      <th>4-thursday</th>\n",
       "      <th>5-friday</th>\n",
       "    </tr>\n",
       "  </thead>\n",
       "  <tbody>\n",
       "    <tr>\n",
       "      <th>even_part_of_coords</th>\n",
       "      <td>103.8868</td>\n",
       "      <td>0.0000</td>\n",
       "      <td>17.4726</td>\n",
       "      <td>88.2912</td>\n",
       "      <td>64.1542</td>\n",
       "    </tr>\n",
       "    <tr>\n",
       "      <th>odd_part_of_coords</th>\n",
       "      <td>117.7402</td>\n",
       "      <td>276.2076</td>\n",
       "      <td>0.0000</td>\n",
       "      <td>82.4906</td>\n",
       "      <td>277.1025</td>\n",
       "    </tr>\n",
       "  </tbody>\n",
       "</table>\n",
       "</div>"
      ],
      "text/plain": [
       "                     1-monday  2-tuesday  3-wednesday  4-thursday  5-friday\n",
       "even_part_of_coords  103.8868     0.0000      17.4726     88.2912   64.1542\n",
       "odd_part_of_coords   117.7402   276.2076       0.0000     82.4906  277.1025"
      ]
     },
     "metadata": {},
     "output_type": "display_data"
    },
    {
     "name": "stdout",
     "output_type": "stream",
     "text": [
      "iorder  -  LV_iorder_ТП_Еффі\n",
      "Первая половина месяца:\n"
     ]
    },
    {
     "data": {
      "text/html": [
       "<div>\n",
       "<style scoped>\n",
       "    .dataframe tbody tr th:only-of-type {\n",
       "        vertical-align: middle;\n",
       "    }\n",
       "\n",
       "    .dataframe tbody tr th {\n",
       "        vertical-align: top;\n",
       "    }\n",
       "\n",
       "    .dataframe thead th {\n",
       "        text-align: right;\n",
       "    }\n",
       "</style>\n",
       "<table border=\"1\" class=\"dataframe\">\n",
       "  <thead>\n",
       "    <tr style=\"text-align: right;\">\n",
       "      <th></th>\n",
       "      <th>1-monday</th>\n",
       "      <th>2-tuesday</th>\n",
       "      <th>4-thursday</th>\n",
       "      <th>5-friday</th>\n",
       "    </tr>\n",
       "  </thead>\n",
       "  <tbody>\n",
       "    <tr>\n",
       "      <th>even_part_of_coords</th>\n",
       "      <td>0.0000</td>\n",
       "      <td>0.0000</td>\n",
       "      <td>60.8046</td>\n",
       "      <td>13.7198</td>\n",
       "    </tr>\n",
       "    <tr>\n",
       "      <th>odd_part_of_coords</th>\n",
       "      <td>242.2303</td>\n",
       "      <td>322.6416</td>\n",
       "      <td>50.6862</td>\n",
       "      <td>102.5665</td>\n",
       "    </tr>\n",
       "  </tbody>\n",
       "</table>\n",
       "</div>"
      ],
      "text/plain": [
       "                     1-monday  2-tuesday  4-thursday  5-friday\n",
       "even_part_of_coords    0.0000     0.0000     60.8046   13.7198\n",
       "odd_part_of_coords   242.2303   322.6416     50.6862  102.5665"
      ]
     },
     "metadata": {},
     "output_type": "display_data"
    },
    {
     "name": "stdout",
     "output_type": "stream",
     "text": [
      "Вторая половина месяца:\n"
     ]
    },
    {
     "data": {
      "text/html": [
       "<div>\n",
       "<style scoped>\n",
       "    .dataframe tbody tr th:only-of-type {\n",
       "        vertical-align: middle;\n",
       "    }\n",
       "\n",
       "    .dataframe tbody tr th {\n",
       "        vertical-align: top;\n",
       "    }\n",
       "\n",
       "    .dataframe thead th {\n",
       "        text-align: right;\n",
       "    }\n",
       "</style>\n",
       "<table border=\"1\" class=\"dataframe\">\n",
       "  <thead>\n",
       "    <tr style=\"text-align: right;\">\n",
       "      <th></th>\n",
       "      <th>1-monday</th>\n",
       "      <th>5-friday</th>\n",
       "    </tr>\n",
       "  </thead>\n",
       "  <tbody>\n",
       "    <tr>\n",
       "      <th>even_part_of_coords</th>\n",
       "      <td>0.0000</td>\n",
       "      <td>11.1421</td>\n",
       "    </tr>\n",
       "    <tr>\n",
       "      <th>odd_part_of_coords</th>\n",
       "      <td>188.0511</td>\n",
       "      <td>97.9156</td>\n",
       "    </tr>\n",
       "  </tbody>\n",
       "</table>\n",
       "</div>"
      ],
      "text/plain": [
       "                     1-monday  5-friday\n",
       "even_part_of_coords    0.0000   11.1421\n",
       "odd_part_of_coords   188.0511   97.9156"
      ]
     },
     "metadata": {},
     "output_type": "display_data"
    },
    {
     "name": "stdout",
     "output_type": "stream",
     "text": [
      "iorder  -  OD_iorder_Армаш\n",
      "Первая половина месяца:\n"
     ]
    },
    {
     "data": {
      "text/html": [
       "<div>\n",
       "<style scoped>\n",
       "    .dataframe tbody tr th:only-of-type {\n",
       "        vertical-align: middle;\n",
       "    }\n",
       "\n",
       "    .dataframe tbody tr th {\n",
       "        vertical-align: top;\n",
       "    }\n",
       "\n",
       "    .dataframe thead th {\n",
       "        text-align: right;\n",
       "    }\n",
       "</style>\n",
       "<table border=\"1\" class=\"dataframe\">\n",
       "  <thead>\n",
       "    <tr style=\"text-align: right;\">\n",
       "      <th></th>\n",
       "      <th>1-monday</th>\n",
       "      <th>2-tuesday</th>\n",
       "      <th>3-wednesday</th>\n",
       "      <th>4-thursday</th>\n",
       "      <th>5-friday</th>\n",
       "    </tr>\n",
       "  </thead>\n",
       "  <tbody>\n",
       "    <tr>\n",
       "      <th>even_part_of_coords</th>\n",
       "      <td>0.0000</td>\n",
       "      <td>0.0000</td>\n",
       "      <td>0.0000</td>\n",
       "      <td>0.0000</td>\n",
       "      <td>0.0000</td>\n",
       "    </tr>\n",
       "    <tr>\n",
       "      <th>odd_part_of_coords</th>\n",
       "      <td>30.6173</td>\n",
       "      <td>494.9459</td>\n",
       "      <td>38.1171</td>\n",
       "      <td>214.7246</td>\n",
       "      <td>178.4035</td>\n",
       "    </tr>\n",
       "  </tbody>\n",
       "</table>\n",
       "</div>"
      ],
      "text/plain": [
       "                     1-monday  2-tuesday  3-wednesday  4-thursday  5-friday\n",
       "even_part_of_coords    0.0000     0.0000       0.0000      0.0000    0.0000\n",
       "odd_part_of_coords    30.6173   494.9459      38.1171    214.7246  178.4035"
      ]
     },
     "metadata": {},
     "output_type": "display_data"
    },
    {
     "name": "stdout",
     "output_type": "stream",
     "text": [
      "Вторая половина месяца:\n"
     ]
    },
    {
     "data": {
      "text/html": [
       "<div>\n",
       "<style scoped>\n",
       "    .dataframe tbody tr th:only-of-type {\n",
       "        vertical-align: middle;\n",
       "    }\n",
       "\n",
       "    .dataframe tbody tr th {\n",
       "        vertical-align: top;\n",
       "    }\n",
       "\n",
       "    .dataframe thead th {\n",
       "        text-align: right;\n",
       "    }\n",
       "</style>\n",
       "<table border=\"1\" class=\"dataframe\">\n",
       "  <thead>\n",
       "    <tr style=\"text-align: right;\">\n",
       "      <th></th>\n",
       "    </tr>\n",
       "  </thead>\n",
       "  <tbody>\n",
       "    <tr>\n",
       "      <th>even_part_of_coords</th>\n",
       "    </tr>\n",
       "    <tr>\n",
       "      <th>odd_part_of_coords</th>\n",
       "    </tr>\n",
       "  </tbody>\n",
       "</table>\n",
       "</div>"
      ],
      "text/plain": [
       "Empty DataFrame\n",
       "Columns: []\n",
       "Index: [even_part_of_coords, odd_part_of_coords]"
      ]
     },
     "metadata": {},
     "output_type": "display_data"
    },
    {
     "name": "stdout",
     "output_type": "stream",
     "text": [
      "iorder  -  VN_iorder_Косарев\n"
     ]
    },
    {
     "ename": "HTTPError",
     "evalue": "HTTP Error 400: Bad Request",
     "output_type": "error",
     "traceback": [
      "\u001b[1;31m---------------------------------------------------------------------------\u001b[0m",
      "\u001b[1;31mHTTPError\u001b[0m                                 Traceback (most recent call last)",
      "\u001b[1;32m<ipython-input-19-4abca9e28256>\u001b[0m in \u001b[0;36m<module>\u001b[1;34m\u001b[0m\n\u001b[0;32m      8\u001b[0m \u001b[1;33m\u001b[0m\u001b[0m\n\u001b[0;32m      9\u001b[0m \u001b[1;31m# Вызов функции\u001b[0m\u001b[1;33m\u001b[0m\u001b[1;33m\u001b[0m\u001b[1;33m\u001b[0m\u001b[0m\n\u001b[1;32m---> 10\u001b[1;33m \u001b[0mcalc_folder\u001b[0m\u001b[1;33m(\u001b[0m\u001b[0mpath\u001b[0m\u001b[1;33m)\u001b[0m\u001b[1;33m\u001b[0m\u001b[1;33m\u001b[0m\u001b[0m\n\u001b[0m",
      "\u001b[1;32m~\\OneDrive\\Документы\\GitHub\\notebooks\\libfunc.py\u001b[0m in \u001b[0;36mcalc_folder\u001b[1;34m(path)\u001b[0m\n\u001b[0;32m    201\u001b[0m         \u001b[0mschedule_data\u001b[0m \u001b[1;33m=\u001b[0m \u001b[0mopen_excel_file\u001b[0m\u001b[1;33m(\u001b[0m\u001b[0mf\u001b[0m\u001b[1;33m)\u001b[0m\u001b[1;33m\u001b[0m\u001b[1;33m\u001b[0m\u001b[0m\n\u001b[0;32m    202\u001b[0m         \u001b[0mfull_dict\u001b[0m \u001b[1;33m=\u001b[0m \u001b[0mschedule\u001b[0m\u001b[1;33m(\u001b[0m\u001b[0mschedule_data\u001b[0m\u001b[1;33m)\u001b[0m\u001b[1;33m\u001b[0m\u001b[1;33m\u001b[0m\u001b[0m\n\u001b[1;32m--> 203\u001b[1;33m         \u001b[0mdata\u001b[0m \u001b[1;33m=\u001b[0m \u001b[0mcalc_trips\u001b[0m\u001b[1;33m(\u001b[0m\u001b[0mfull_dict\u001b[0m\u001b[1;33m)\u001b[0m\u001b[1;33m\u001b[0m\u001b[1;33m\u001b[0m\u001b[0m\n\u001b[0m\u001b[0;32m    204\u001b[0m         \u001b[0mprint\u001b[0m\u001b[1;33m(\u001b[0m\u001b[1;34m'Первая половина месяца:'\u001b[0m\u001b[1;33m)\u001b[0m\u001b[1;33m\u001b[0m\u001b[1;33m\u001b[0m\u001b[0m\n\u001b[0;32m    205\u001b[0m         \u001b[0mdisplay\u001b[0m\u001b[1;33m(\u001b[0m\u001b[0mdf_first\u001b[0m\u001b[1;33m(\u001b[0m\u001b[0mdata\u001b[0m\u001b[1;33m)\u001b[0m\u001b[1;33m)\u001b[0m\u001b[1;33m\u001b[0m\u001b[1;33m\u001b[0m\u001b[0m\n",
      "\u001b[1;32m~\\OneDrive\\Документы\\GitHub\\notebooks\\libfunc.py\u001b[0m in \u001b[0;36mcalc_trips\u001b[1;34m(full_dict)\u001b[0m\n\u001b[0;32m    180\u001b[0m                         \u001b[0mcoords\u001b[0m\u001b[1;33m.\u001b[0m\u001b[0mappend\u001b[0m\u001b[1;33m(\u001b[0m\u001b[1;33m[\u001b[0m\u001b[0mpoint\u001b[0m\u001b[1;33m[\u001b[0m\u001b[1;34m'Долгота'\u001b[0m\u001b[1;33m]\u001b[0m\u001b[1;33m,\u001b[0m \u001b[0mpoint\u001b[0m\u001b[1;33m[\u001b[0m\u001b[1;34m'Широта'\u001b[0m\u001b[1;33m]\u001b[0m\u001b[1;33m]\u001b[0m\u001b[1;33m)\u001b[0m\u001b[1;33m\u001b[0m\u001b[1;33m\u001b[0m\u001b[0m\n\u001b[0;32m    181\u001b[0m                     result = xosrm.trip(coords, source='first', roundtrip=True,\n\u001b[1;32m--> 182\u001b[1;33m                                         output='full', overview=\"full\", geometry=\"geojson\")\n\u001b[0m\u001b[0;32m    183\u001b[0m                     \u001b[0mdistance\u001b[0m \u001b[1;33m=\u001b[0m \u001b[0mresult\u001b[0m\u001b[1;33m[\u001b[0m\u001b[1;34m'trips'\u001b[0m\u001b[1;33m]\u001b[0m\u001b[1;33m[\u001b[0m\u001b[1;36m0\u001b[0m\u001b[1;33m]\u001b[0m\u001b[1;33m[\u001b[0m\u001b[1;34m'distance'\u001b[0m\u001b[1;33m]\u001b[0m\u001b[1;33m/\u001b[0m\u001b[1;36m1000\u001b[0m\u001b[1;33m\u001b[0m\u001b[1;33m\u001b[0m\u001b[0m\n\u001b[0;32m    184\u001b[0m                     \u001b[0mdist_dict\u001b[0m\u001b[1;33m[\u001b[0m\u001b[0mkey0\u001b[0m\u001b[1;33m]\u001b[0m\u001b[1;33m[\u001b[0m\u001b[0mkey\u001b[0m\u001b[1;33m]\u001b[0m\u001b[1;33m[\u001b[0m\u001b[0mkey2\u001b[0m\u001b[1;33m]\u001b[0m \u001b[1;33m=\u001b[0m \u001b[0mdistance\u001b[0m\u001b[1;33m\u001b[0m\u001b[1;33m\u001b[0m\u001b[0m\n",
      "\u001b[1;32m~\\OneDrive\\Документы\\GitHub\\notebooks\\core.py\u001b[0m in \u001b[0;36mtrip\u001b[1;34m(coords, steps, output, geometry, overview, roundtrip, source, destination, annotations, url_config, send_as_polyline)\u001b[0m\n\u001b[0;32m    480\u001b[0m     \u001b[1;32mif\u001b[0m \u001b[0murl_config\u001b[0m\u001b[1;33m.\u001b[0m\u001b[0mauth\u001b[0m\u001b[1;33m:\u001b[0m\u001b[1;33m\u001b[0m\u001b[1;33m\u001b[0m\u001b[0m\n\u001b[0;32m    481\u001b[0m         \u001b[0mreq\u001b[0m\u001b[1;33m.\u001b[0m\u001b[0madd_header\u001b[0m\u001b[1;33m(\u001b[0m\u001b[1;34m\"Authorization\"\u001b[0m\u001b[1;33m,\u001b[0m \u001b[0murl_config\u001b[0m\u001b[1;33m.\u001b[0m\u001b[0mauth\u001b[0m\u001b[1;33m)\u001b[0m\u001b[1;33m\u001b[0m\u001b[1;33m\u001b[0m\u001b[0m\n\u001b[1;32m--> 482\u001b[1;33m     \u001b[0mrep\u001b[0m \u001b[1;33m=\u001b[0m \u001b[0murlopen\u001b[0m\u001b[1;33m(\u001b[0m\u001b[0mreq\u001b[0m\u001b[1;33m)\u001b[0m\u001b[1;33m\u001b[0m\u001b[1;33m\u001b[0m\u001b[0m\n\u001b[0m\u001b[0;32m    483\u001b[0m     \u001b[0mparsed_json\u001b[0m \u001b[1;33m=\u001b[0m \u001b[0mjson\u001b[0m\u001b[1;33m.\u001b[0m\u001b[0mloads\u001b[0m\u001b[1;33m(\u001b[0m\u001b[0mrep\u001b[0m\u001b[1;33m.\u001b[0m\u001b[0mread\u001b[0m\u001b[1;33m(\u001b[0m\u001b[1;33m)\u001b[0m\u001b[1;33m.\u001b[0m\u001b[0mdecode\u001b[0m\u001b[1;33m(\u001b[0m\u001b[1;34m'utf-8'\u001b[0m\u001b[1;33m)\u001b[0m\u001b[1;33m)\u001b[0m\u001b[1;33m\u001b[0m\u001b[1;33m\u001b[0m\u001b[0m\n\u001b[0;32m    484\u001b[0m \u001b[1;33m\u001b[0m\u001b[0m\n",
      "\u001b[1;32mC:\\ProgramData\\Anaconda3\\lib\\urllib\\request.py\u001b[0m in \u001b[0;36murlopen\u001b[1;34m(url, data, timeout, cafile, capath, cadefault, context)\u001b[0m\n\u001b[0;32m    220\u001b[0m     \u001b[1;32melse\u001b[0m\u001b[1;33m:\u001b[0m\u001b[1;33m\u001b[0m\u001b[1;33m\u001b[0m\u001b[0m\n\u001b[0;32m    221\u001b[0m         \u001b[0mopener\u001b[0m \u001b[1;33m=\u001b[0m \u001b[0m_opener\u001b[0m\u001b[1;33m\u001b[0m\u001b[1;33m\u001b[0m\u001b[0m\n\u001b[1;32m--> 222\u001b[1;33m     \u001b[1;32mreturn\u001b[0m \u001b[0mopener\u001b[0m\u001b[1;33m.\u001b[0m\u001b[0mopen\u001b[0m\u001b[1;33m(\u001b[0m\u001b[0murl\u001b[0m\u001b[1;33m,\u001b[0m \u001b[0mdata\u001b[0m\u001b[1;33m,\u001b[0m \u001b[0mtimeout\u001b[0m\u001b[1;33m)\u001b[0m\u001b[1;33m\u001b[0m\u001b[1;33m\u001b[0m\u001b[0m\n\u001b[0m\u001b[0;32m    223\u001b[0m \u001b[1;33m\u001b[0m\u001b[0m\n\u001b[0;32m    224\u001b[0m \u001b[1;32mdef\u001b[0m \u001b[0minstall_opener\u001b[0m\u001b[1;33m(\u001b[0m\u001b[0mopener\u001b[0m\u001b[1;33m)\u001b[0m\u001b[1;33m:\u001b[0m\u001b[1;33m\u001b[0m\u001b[1;33m\u001b[0m\u001b[0m\n",
      "\u001b[1;32mC:\\ProgramData\\Anaconda3\\lib\\urllib\\request.py\u001b[0m in \u001b[0;36mopen\u001b[1;34m(self, fullurl, data, timeout)\u001b[0m\n\u001b[0;32m    529\u001b[0m         \u001b[1;32mfor\u001b[0m \u001b[0mprocessor\u001b[0m \u001b[1;32min\u001b[0m \u001b[0mself\u001b[0m\u001b[1;33m.\u001b[0m\u001b[0mprocess_response\u001b[0m\u001b[1;33m.\u001b[0m\u001b[0mget\u001b[0m\u001b[1;33m(\u001b[0m\u001b[0mprotocol\u001b[0m\u001b[1;33m,\u001b[0m \u001b[1;33m[\u001b[0m\u001b[1;33m]\u001b[0m\u001b[1;33m)\u001b[0m\u001b[1;33m:\u001b[0m\u001b[1;33m\u001b[0m\u001b[1;33m\u001b[0m\u001b[0m\n\u001b[0;32m    530\u001b[0m             \u001b[0mmeth\u001b[0m \u001b[1;33m=\u001b[0m \u001b[0mgetattr\u001b[0m\u001b[1;33m(\u001b[0m\u001b[0mprocessor\u001b[0m\u001b[1;33m,\u001b[0m \u001b[0mmeth_name\u001b[0m\u001b[1;33m)\u001b[0m\u001b[1;33m\u001b[0m\u001b[1;33m\u001b[0m\u001b[0m\n\u001b[1;32m--> 531\u001b[1;33m             \u001b[0mresponse\u001b[0m \u001b[1;33m=\u001b[0m \u001b[0mmeth\u001b[0m\u001b[1;33m(\u001b[0m\u001b[0mreq\u001b[0m\u001b[1;33m,\u001b[0m \u001b[0mresponse\u001b[0m\u001b[1;33m)\u001b[0m\u001b[1;33m\u001b[0m\u001b[1;33m\u001b[0m\u001b[0m\n\u001b[0m\u001b[0;32m    532\u001b[0m \u001b[1;33m\u001b[0m\u001b[0m\n\u001b[0;32m    533\u001b[0m         \u001b[1;32mreturn\u001b[0m \u001b[0mresponse\u001b[0m\u001b[1;33m\u001b[0m\u001b[1;33m\u001b[0m\u001b[0m\n",
      "\u001b[1;32mC:\\ProgramData\\Anaconda3\\lib\\urllib\\request.py\u001b[0m in \u001b[0;36mhttp_response\u001b[1;34m(self, request, response)\u001b[0m\n\u001b[0;32m    639\u001b[0m         \u001b[1;32mif\u001b[0m \u001b[1;32mnot\u001b[0m \u001b[1;33m(\u001b[0m\u001b[1;36m200\u001b[0m \u001b[1;33m<=\u001b[0m \u001b[0mcode\u001b[0m \u001b[1;33m<\u001b[0m \u001b[1;36m300\u001b[0m\u001b[1;33m)\u001b[0m\u001b[1;33m:\u001b[0m\u001b[1;33m\u001b[0m\u001b[1;33m\u001b[0m\u001b[0m\n\u001b[0;32m    640\u001b[0m             response = self.parent.error(\n\u001b[1;32m--> 641\u001b[1;33m                 'http', request, response, code, msg, hdrs)\n\u001b[0m\u001b[0;32m    642\u001b[0m \u001b[1;33m\u001b[0m\u001b[0m\n\u001b[0;32m    643\u001b[0m         \u001b[1;32mreturn\u001b[0m \u001b[0mresponse\u001b[0m\u001b[1;33m\u001b[0m\u001b[1;33m\u001b[0m\u001b[0m\n",
      "\u001b[1;32mC:\\ProgramData\\Anaconda3\\lib\\urllib\\request.py\u001b[0m in \u001b[0;36merror\u001b[1;34m(self, proto, *args)\u001b[0m\n\u001b[0;32m    567\u001b[0m         \u001b[1;32mif\u001b[0m \u001b[0mhttp_err\u001b[0m\u001b[1;33m:\u001b[0m\u001b[1;33m\u001b[0m\u001b[1;33m\u001b[0m\u001b[0m\n\u001b[0;32m    568\u001b[0m             \u001b[0margs\u001b[0m \u001b[1;33m=\u001b[0m \u001b[1;33m(\u001b[0m\u001b[0mdict\u001b[0m\u001b[1;33m,\u001b[0m \u001b[1;34m'default'\u001b[0m\u001b[1;33m,\u001b[0m \u001b[1;34m'http_error_default'\u001b[0m\u001b[1;33m)\u001b[0m \u001b[1;33m+\u001b[0m \u001b[0morig_args\u001b[0m\u001b[1;33m\u001b[0m\u001b[1;33m\u001b[0m\u001b[0m\n\u001b[1;32m--> 569\u001b[1;33m             \u001b[1;32mreturn\u001b[0m \u001b[0mself\u001b[0m\u001b[1;33m.\u001b[0m\u001b[0m_call_chain\u001b[0m\u001b[1;33m(\u001b[0m\u001b[1;33m*\u001b[0m\u001b[0margs\u001b[0m\u001b[1;33m)\u001b[0m\u001b[1;33m\u001b[0m\u001b[1;33m\u001b[0m\u001b[0m\n\u001b[0m\u001b[0;32m    570\u001b[0m \u001b[1;33m\u001b[0m\u001b[0m\n\u001b[0;32m    571\u001b[0m \u001b[1;31m# XXX probably also want an abstract factory that knows when it makes\u001b[0m\u001b[1;33m\u001b[0m\u001b[1;33m\u001b[0m\u001b[1;33m\u001b[0m\u001b[0m\n",
      "\u001b[1;32mC:\\ProgramData\\Anaconda3\\lib\\urllib\\request.py\u001b[0m in \u001b[0;36m_call_chain\u001b[1;34m(self, chain, kind, meth_name, *args)\u001b[0m\n\u001b[0;32m    501\u001b[0m         \u001b[1;32mfor\u001b[0m \u001b[0mhandler\u001b[0m \u001b[1;32min\u001b[0m \u001b[0mhandlers\u001b[0m\u001b[1;33m:\u001b[0m\u001b[1;33m\u001b[0m\u001b[1;33m\u001b[0m\u001b[0m\n\u001b[0;32m    502\u001b[0m             \u001b[0mfunc\u001b[0m \u001b[1;33m=\u001b[0m \u001b[0mgetattr\u001b[0m\u001b[1;33m(\u001b[0m\u001b[0mhandler\u001b[0m\u001b[1;33m,\u001b[0m \u001b[0mmeth_name\u001b[0m\u001b[1;33m)\u001b[0m\u001b[1;33m\u001b[0m\u001b[1;33m\u001b[0m\u001b[0m\n\u001b[1;32m--> 503\u001b[1;33m             \u001b[0mresult\u001b[0m \u001b[1;33m=\u001b[0m \u001b[0mfunc\u001b[0m\u001b[1;33m(\u001b[0m\u001b[1;33m*\u001b[0m\u001b[0margs\u001b[0m\u001b[1;33m)\u001b[0m\u001b[1;33m\u001b[0m\u001b[1;33m\u001b[0m\u001b[0m\n\u001b[0m\u001b[0;32m    504\u001b[0m             \u001b[1;32mif\u001b[0m \u001b[0mresult\u001b[0m \u001b[1;32mis\u001b[0m \u001b[1;32mnot\u001b[0m \u001b[1;32mNone\u001b[0m\u001b[1;33m:\u001b[0m\u001b[1;33m\u001b[0m\u001b[1;33m\u001b[0m\u001b[0m\n\u001b[0;32m    505\u001b[0m                 \u001b[1;32mreturn\u001b[0m \u001b[0mresult\u001b[0m\u001b[1;33m\u001b[0m\u001b[1;33m\u001b[0m\u001b[0m\n",
      "\u001b[1;32mC:\\ProgramData\\Anaconda3\\lib\\urllib\\request.py\u001b[0m in \u001b[0;36mhttp_error_default\u001b[1;34m(self, req, fp, code, msg, hdrs)\u001b[0m\n\u001b[0;32m    647\u001b[0m \u001b[1;32mclass\u001b[0m \u001b[0mHTTPDefaultErrorHandler\u001b[0m\u001b[1;33m(\u001b[0m\u001b[0mBaseHandler\u001b[0m\u001b[1;33m)\u001b[0m\u001b[1;33m:\u001b[0m\u001b[1;33m\u001b[0m\u001b[1;33m\u001b[0m\u001b[0m\n\u001b[0;32m    648\u001b[0m     \u001b[1;32mdef\u001b[0m \u001b[0mhttp_error_default\u001b[0m\u001b[1;33m(\u001b[0m\u001b[0mself\u001b[0m\u001b[1;33m,\u001b[0m \u001b[0mreq\u001b[0m\u001b[1;33m,\u001b[0m \u001b[0mfp\u001b[0m\u001b[1;33m,\u001b[0m \u001b[0mcode\u001b[0m\u001b[1;33m,\u001b[0m \u001b[0mmsg\u001b[0m\u001b[1;33m,\u001b[0m \u001b[0mhdrs\u001b[0m\u001b[1;33m)\u001b[0m\u001b[1;33m:\u001b[0m\u001b[1;33m\u001b[0m\u001b[1;33m\u001b[0m\u001b[0m\n\u001b[1;32m--> 649\u001b[1;33m         \u001b[1;32mraise\u001b[0m \u001b[0mHTTPError\u001b[0m\u001b[1;33m(\u001b[0m\u001b[0mreq\u001b[0m\u001b[1;33m.\u001b[0m\u001b[0mfull_url\u001b[0m\u001b[1;33m,\u001b[0m \u001b[0mcode\u001b[0m\u001b[1;33m,\u001b[0m \u001b[0mmsg\u001b[0m\u001b[1;33m,\u001b[0m \u001b[0mhdrs\u001b[0m\u001b[1;33m,\u001b[0m \u001b[0mfp\u001b[0m\u001b[1;33m)\u001b[0m\u001b[1;33m\u001b[0m\u001b[1;33m\u001b[0m\u001b[0m\n\u001b[0m\u001b[0;32m    650\u001b[0m \u001b[1;33m\u001b[0m\u001b[0m\n\u001b[0;32m    651\u001b[0m \u001b[1;32mclass\u001b[0m \u001b[0mHTTPRedirectHandler\u001b[0m\u001b[1;33m(\u001b[0m\u001b[0mBaseHandler\u001b[0m\u001b[1;33m)\u001b[0m\u001b[1;33m:\u001b[0m\u001b[1;33m\u001b[0m\u001b[1;33m\u001b[0m\u001b[0m\n",
      "\u001b[1;31mHTTPError\u001b[0m: HTTP Error 400: Bad Request"
     ]
    }
   ],
   "source": [
    "'''\n",
    "Расчет оптимальных пробегов для всех расписаний в папке\n",
    "На вход: путь к папке с файлами расписаний\n",
    "Вывод: таблицы с пробегами по каждому дню\n",
    "'''\n",
    "# Путь к папке с расписаниями\n",
    "path = 'C:\\\\Users\\\\andre\\\\OneDrive\\\\Рабочий стол\\\\sav\\\\iorder\\\\'\n",
    "\n",
    "# Вызов функции\n",
    "calc_folder(path)    "
   ]
  },
  {
   "cell_type": "code",
   "execution_count": 263,
   "metadata": {
    "scrolled": true
   },
   "outputs": [
    {
     "data": {
      "text/plain": [
       "<folium.features.GeoJson at 0x21c8ecd0630>"
      ]
     },
     "execution_count": 263,
     "metadata": {},
     "output_type": "execute_result"
    }
   ],
   "source": [
    "import folium\n",
    "from folium import plugins\n",
    "import os\n",
    "\n",
    "# Create map object\n",
    "m = folium.Map(location=[46.4289,30.6508], zoom_start=12)\n",
    "\n",
    "plugins.ScrollZoomToggler().add_to(m)\n",
    "\n",
    "plugins.Fullscreen(\n",
    "position='topright',\n",
    "title='FullScreen',\n",
    "title_cancel='Exit me',\n",
    "force_separate_button=True).add_to(m)\n",
    "\n",
    "# Geojson data\n",
    "overlay_route = os.path.join('data', 'route.json')\n",
    "# overlay_trip = os.path.join('data', 'trip.json')\n",
    "\n",
    "# Geojson overlay\n",
    "folium.GeoJson(overlay_route, name='lumar-route').add_to(m)\n",
    "# folium.GeoJson(overlay_trip, name='lumar-trip').add_to(m)"
   ]
  },
  {
   "cell_type": "code",
   "execution_count": 264,
   "metadata": {
    "collapsed": true
   },
   "outputs": [
    {
     "data": {
      "text/html": [
       "<div style=\"width:100%;\"><div style=\"position:relative;width:100%;height:0;padding-bottom:60%;\"><iframe src=\"data:text/html;charset=utf-8;base64,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\" style=\"position:absolute;width:100%;height:100%;left:0;top:0;border:none !important;\" allowfullscreen webkitallowfullscreen mozallowfullscreen></iframe></div></div>"
      ],
      "text/plain": [
       "<folium.folium.Map at 0x21c8ee21278>"
      ]
     },
     "execution_count": 264,
     "metadata": {},
     "output_type": "execute_result"
    }
   ],
   "source": [
    "m # Отобразить карту"
   ]
  }
 ],
 "metadata": {
  "kernelspec": {
   "display_name": "Python 3",
   "language": "python",
   "name": "python3"
  },
  "language_info": {
   "codemirror_mode": {
    "name": "ipython",
    "version": 3
   },
   "file_extension": ".py",
   "mimetype": "text/x-python",
   "name": "python",
   "nbconvert_exporter": "python",
   "pygments_lexer": "ipython3",
   "version": "3.7.3"
  }
 },
 "nbformat": 4,
 "nbformat_minor": 2
}
