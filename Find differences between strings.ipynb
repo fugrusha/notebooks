{
 "cells": [
  {
   "cell_type": "code",
   "execution_count": 32,
   "metadata": {},
   "outputs": [],
   "source": [
    "import pandas as pd\n",
    "import difflib"
   ]
  },
  {
   "cell_type": "code",
   "execution_count": 48,
   "metadata": {},
   "outputs": [],
   "source": [
    "def find_diffs(list_of_rows):\n",
    "    #create new dataframe\n",
    "    result_df = pd.DataFrame(columns=[\"Различия\"])\n",
    "    \n",
    "    for a, b in list_of_rows:\n",
    "        return_string = \"\"\n",
    "        for i, s in enumerate(difflib.ndiff(a, b)):\n",
    "            if s[0]==' ': continue\n",
    "            elif s[0]=='-':\n",
    "                return_string += '\\n Удалить \"{}\" на позиции {};'.format(s[-1], i)\n",
    "            elif s[0]=='+':\n",
    "                return_string += '\\n Добавить \"{}\" на позиции {};'.format(s[-1], i)\n",
    "    \n",
    "        new_row = {\"Различия\": return_string}\n",
    "        result_df = result_df.append(new_row, ignore_index=True)\n",
    "    \n",
    "    return result_df\n",
    "\n",
    "def create_excel_file(return_data):\n",
    "    writer = pd.ExcelWriter('Result.xlsx', engine='xlsxwriter')\n",
    "    return_data.to_excel(writer, sheet_name='Result', index=False)\n",
    "    \n",
    "    workbook = writer.book\n",
    "    worksheet = writer.sheets['Result']\n",
    "    column_format = workbook.add_format()\n",
    "    column_format.set_text_wrap()\n",
    "    column_format.set_align('vcenter')\n",
    "    # Setting the format andcolumn width\n",
    "    worksheet.set_column('A:C', 30, column_format)\n",
    "\n",
    "    writer.save()\n",
    "    writer.close()\n",
    "    print(\"Файл создан\")"
   ]
  },
  {
   "cell_type": "code",
   "execution_count": 49,
   "metadata": {},
   "outputs": [
    {
     "name": "stdout",
     "output_type": "stream",
     "text": [
      "Файл создан\n"
     ]
    }
   ],
   "source": [
    "# read from excel\n",
    "data = pd.read_excel(\"C:\\\\Users\\\\andre\\\\OneDrive\\\\Рабочий стол\\\\Книга1.xlsx\")\n",
    "# convert dataframe to list of tuples\n",
    "list_of_rows = list(data.itertuples(index=False, name=None))\n",
    "# get dataframe of diffs\n",
    "diffs = find_diffs(list_of_rows)\n",
    "# append diffs to imported table\n",
    "data[\"Различия\"] = diffs\n",
    "# write to excel\n",
    "create_excel_file(data)"
   ]
  },
  {
   "cell_type": "code",
   "execution_count": null,
   "metadata": {},
   "outputs": [],
   "source": []
  }
 ],
 "metadata": {
  "kernelspec": {
   "display_name": "Python 3",
   "language": "python",
   "name": "python3"
  },
  "language_info": {
   "codemirror_mode": {
    "name": "ipython",
    "version": 3
   },
   "file_extension": ".py",
   "mimetype": "text/x-python",
   "name": "python",
   "nbconvert_exporter": "python",
   "pygments_lexer": "ipython3",
   "version": "3.7.3"
  }
 },
 "nbformat": 4,
 "nbformat_minor": 2
}
