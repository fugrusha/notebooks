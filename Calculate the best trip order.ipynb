{
 "cells": [
  {
   "cell_type": "code",
   "execution_count": 1,
   "metadata": {},
   "outputs": [],
   "source": [
    "from libfunc_trip_order import *"
   ]
  },
  {
   "cell_type": "code",
   "execution_count": 2,
   "metadata": {},
   "outputs": [],
   "source": [
    "xosrm.RequestConfig.host = \"52.236.141.167:8080\"\n",
    "# xosrm.RequestConfig.host = \"127.0.0.1:5000\""
   ]
  },
  {
   "cell_type": "code",
   "execution_count": 6,
   "metadata": {
    "scrolled": true
   },
   "outputs": [
    {
     "data": {
      "text/html": [
       "<div>\n",
       "<style scoped>\n",
       "    .dataframe tbody tr th:only-of-type {\n",
       "        vertical-align: middle;\n",
       "    }\n",
       "\n",
       "    .dataframe tbody tr th {\n",
       "        vertical-align: top;\n",
       "    }\n",
       "\n",
       "    .dataframe thead th {\n",
       "        text-align: right;\n",
       "    }\n",
       "</style>\n",
       "<table border=\"1\" class=\"dataframe\">\n",
       "  <thead>\n",
       "    <tr style=\"text-align: right;\">\n",
       "      <th></th>\n",
       "      <th>1-ПН</th>\n",
       "      <th>2-ВТ</th>\n",
       "      <th>3-СР</th>\n",
       "      <th>4-ЧТ</th>\n",
       "      <th>5-ПТ</th>\n",
       "    </tr>\n",
       "  </thead>\n",
       "  <tbody>\n",
       "    <tr>\n",
       "      <th>четная нед.</th>\n",
       "      <td>118.315</td>\n",
       "      <td>151.1454</td>\n",
       "      <td>164.7608</td>\n",
       "      <td>152.3844</td>\n",
       "      <td>40.1685</td>\n",
       "    </tr>\n",
       "    <tr>\n",
       "      <th>не четная нед.</th>\n",
       "      <td>118.315</td>\n",
       "      <td>176.6971</td>\n",
       "      <td>167.1320</td>\n",
       "      <td>161.0038</td>\n",
       "      <td>42.4630</td>\n",
       "    </tr>\n",
       "  </tbody>\n",
       "</table>\n",
       "</div>"
      ],
      "text/plain": [
       "                   1-ПН      2-ВТ      3-СР      4-ЧТ     5-ПТ\n",
       "четная нед.     118.315  151.1454  164.7608  152.3844  40.1685\n",
       "не четная нед.  118.315  176.6971  167.1320  161.0038  42.4630"
      ]
     },
     "metadata": {},
     "output_type": "display_data"
    },
    {
     "name": "stdout",
     "output_type": "stream",
     "text": [
      "Файл создан\n"
     ]
    }
   ],
   "source": [
    "'''\n",
    "Расчет оптимального пробега на каждый день недели для точек\n",
    "На вход: необходимо ввести путь к файлу\n",
    "Расписание ДОЛЖНО содержать Новый для КПК первой точкой на день с минимальным индесом (0 или 1)\n",
    "Вывод: таблица расстояний и запись распиания в файл excel\n",
    "'''\n",
    "schedule_data = open_excel_file(\n",
    "    file_path='C:\\\\Users\\\\andre\\\\Downloads\\\\Telegram Desktop\\\\Расписания Ляшко О.xlsx')\n",
    "# Словарь с точками на четную и не четную неделю\n",
    "full_dict = schedule_odd_even(schedule_data)\n",
    "\n",
    "data = calc_trips_order(full_dict)\n",
    "# Отображение таблицы расстояний\n",
    "display(df2table(data[0]))\n",
    "# Запись  файл excel\n",
    "write_to_excel(data[1])\n",
    "print('Файл создан')"
   ]
  },
  {
   "cell_type": "code",
   "execution_count": 2,
   "metadata": {
    "scrolled": true
   },
   "outputs": [
    {
     "name": "stdout",
     "output_type": "stream",
     "text": [
      "Расписание Боженко готово\n",
      "Расписание Гречка готово\n",
      "Расписание Задорожный готово\n",
      "Файл создан\n"
     ]
    }
   ],
   "source": [
    "'''\n",
    "Расчет оптимальных пробегов для всех расписаний в папке\n",
    "На вход: путь к папке с файлами расписаний\n",
    "Вывод: таблицы с пробегами по каждому дню\n",
    "'''\n",
    "# Путь к папке с расписаниями\n",
    "path = 'C:\\\\Users\\\\andre\\\\OneDrive\\\\Рабочий стол\\\\sav\\\\DP\\\\Тест\\\\12'\n",
    "\n",
    "# Вызов функции\n",
    "calc_order_for_folder(path) "
   ]
  },
  {
   "cell_type": "code",
   "execution_count": null,
   "metadata": {},
   "outputs": [],
   "source": []
  }
 ],
 "metadata": {
  "kernelspec": {
   "display_name": "Python 3",
   "language": "python",
   "name": "python3"
  },
  "language_info": {
   "codemirror_mode": {
    "name": "ipython",
    "version": 3
   },
   "file_extension": ".py",
   "mimetype": "text/x-python",
   "name": "python",
   "nbconvert_exporter": "python",
   "pygments_lexer": "ipython3",
   "version": "3.7.3"
  }
 },
 "nbformat": 4,
 "nbformat_minor": 2
}
