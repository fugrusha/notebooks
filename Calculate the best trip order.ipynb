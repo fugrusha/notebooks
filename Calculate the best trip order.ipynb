{
 "cells": [
  {
   "cell_type": "code",
   "execution_count": 1,
   "metadata": {},
   "outputs": [],
   "source": [
    "from libfunc_trip_order import *"
   ]
  },
  {
   "cell_type": "code",
   "execution_count": 2,
   "metadata": {
    "scrolled": true
   },
   "outputs": [
    {
     "data": {
      "text/html": [
       "<div>\n",
       "<style scoped>\n",
       "    .dataframe tbody tr th:only-of-type {\n",
       "        vertical-align: middle;\n",
       "    }\n",
       "\n",
       "    .dataframe tbody tr th {\n",
       "        vertical-align: top;\n",
       "    }\n",
       "\n",
       "    .dataframe thead th {\n",
       "        text-align: right;\n",
       "    }\n",
       "</style>\n",
       "<table border=\"1\" class=\"dataframe\">\n",
       "  <thead>\n",
       "    <tr style=\"text-align: right;\">\n",
       "      <th></th>\n",
       "      <th>1-ПН</th>\n",
       "      <th>2-ВТ</th>\n",
       "      <th>3-СР</th>\n",
       "      <th>4-ЧТ</th>\n",
       "      <th>5-ПТ</th>\n",
       "    </tr>\n",
       "  </thead>\n",
       "  <tbody>\n",
       "    <tr>\n",
       "      <th>четная нед.</th>\n",
       "      <td>103.8868</td>\n",
       "      <td>0.0000</td>\n",
       "      <td>17.4726</td>\n",
       "      <td>88.2912</td>\n",
       "      <td>257.6436</td>\n",
       "    </tr>\n",
       "    <tr>\n",
       "      <th>не четная нед.</th>\n",
       "      <td>117.7402</td>\n",
       "      <td>276.2076</td>\n",
       "      <td>0.0000</td>\n",
       "      <td>82.4906</td>\n",
       "      <td>277.1025</td>\n",
       "    </tr>\n",
       "  </tbody>\n",
       "</table>\n",
       "</div>"
      ],
      "text/plain": [
       "                    1-ПН      2-ВТ     3-СР     4-ЧТ      5-ПТ\n",
       "четная нед.     103.8868    0.0000  17.4726  88.2912  257.6436\n",
       "не четная нед.  117.7402  276.2076   0.0000  82.4906  277.1025"
      ]
     },
     "metadata": {},
     "output_type": "display_data"
    },
    {
     "name": "stdout",
     "output_type": "stream",
     "text": [
      "Файл создан\n"
     ]
    }
   ],
   "source": [
    "'''\n",
    "Расчет оптимального пробега на каждый день недели для точек\n",
    "На вход: необходимо ввести путь к файлу\n",
    "Расписание ДОЛЖНО содержать Новый для КПК первой точкой на день с минимальным индесом (0 или 1)\n",
    "Вывод: таблица расстояний и запись распиания в файл excel\n",
    "'''\n",
    "schedule_data = open_excel_file(\n",
    "    file_path='C:\\\\Users\\\\andre\\\\OneDrive\\\\Рабочий стол\\\\sav\\\\iorder\\\\DP_iorder_Боженко.xlsx')\n",
    "# Словарь с точками на четную и не четную неделю\n",
    "full_dict = schedule_odd_even(schedule_data)\n",
    "\n",
    "data = calc_trips_order(full_dict)\n",
    "# Отображение таблицы расстояний\n",
    "display(df2table(data[0]))\n",
    "# Запись  файл excel\n",
    "write_to_excel(data[1])\n",
    "print('Файл создан')"
   ]
  },
  {
   "cell_type": "code",
   "execution_count": 2,
   "metadata": {},
   "outputs": [
    {
     "ename": "IndexError",
     "evalue": "list index out of range",
     "output_type": "error",
     "traceback": [
      "\u001b[1;31m---------------------------------------------------------------------------\u001b[0m",
      "\u001b[1;31mIndexError\u001b[0m                                Traceback (most recent call last)",
      "\u001b[1;32m<ipython-input-2-e5bb133e7ce2>\u001b[0m in \u001b[0;36m<module>\u001b[1;34m\u001b[0m\n\u001b[0;32m      8\u001b[0m \u001b[1;33m\u001b[0m\u001b[0m\n\u001b[0;32m      9\u001b[0m \u001b[1;31m# Вызов функции\u001b[0m\u001b[1;33m\u001b[0m\u001b[1;33m\u001b[0m\u001b[1;33m\u001b[0m\u001b[0m\n\u001b[1;32m---> 10\u001b[1;33m \u001b[0mcalc_order_for_folder\u001b[0m\u001b[1;33m(\u001b[0m\u001b[0mpath\u001b[0m\u001b[1;33m)\u001b[0m\u001b[1;33m\u001b[0m\u001b[1;33m\u001b[0m\u001b[0m\n\u001b[0m",
      "\u001b[1;32m~\\OneDrive\\Документы\\GitHub\\notebooks\\libfunc_trip_order.py\u001b[0m in \u001b[0;36mcalc_order_for_folder\u001b[1;34m(path)\u001b[0m\n\u001b[0;32m    120\u001b[0m         \u001b[0mfull_dict\u001b[0m \u001b[1;33m=\u001b[0m \u001b[0mschedule_odd_even\u001b[0m\u001b[1;33m(\u001b[0m\u001b[0mschedule_data\u001b[0m\u001b[1;33m)\u001b[0m\u001b[1;33m\u001b[0m\u001b[1;33m\u001b[0m\u001b[0m\n\u001b[0;32m    121\u001b[0m         \u001b[1;31m# data consists of dict of distances and dict of salepoints order\u001b[0m\u001b[1;33m\u001b[0m\u001b[1;33m\u001b[0m\u001b[1;33m\u001b[0m\u001b[0m\n\u001b[1;32m--> 122\u001b[1;33m         \u001b[0mdata\u001b[0m \u001b[1;33m=\u001b[0m \u001b[0mcalc_trips_order\u001b[0m\u001b[1;33m(\u001b[0m\u001b[0mfull_dict\u001b[0m\u001b[1;33m)\u001b[0m\u001b[1;33m\u001b[0m\u001b[1;33m\u001b[0m\u001b[0m\n\u001b[0m\u001b[0;32m    123\u001b[0m \u001b[1;33m\u001b[0m\u001b[0m\n\u001b[0;32m    124\u001b[0m         \u001b[1;31m# Create empty dataFrame\u001b[0m\u001b[1;33m\u001b[0m\u001b[1;33m\u001b[0m\u001b[1;33m\u001b[0m\u001b[0m\n",
      "\u001b[1;32m~\\OneDrive\\Документы\\GitHub\\notebooks\\libfunc_trip_order.py\u001b[0m in \u001b[0;36mcalc_trips_order\u001b[1;34m(full_dict)\u001b[0m\n\u001b[0;32m     64\u001b[0m                 \u001b[1;32mfor\u001b[0m \u001b[0mindex\u001b[0m\u001b[1;33m,\u001b[0m \u001b[0mpoint\u001b[0m \u001b[1;32min\u001b[0m \u001b[0menumerate\u001b[0m\u001b[1;33m(\u001b[0m\u001b[0mvalue2\u001b[0m\u001b[1;33m)\u001b[0m\u001b[1;33m:\u001b[0m\u001b[1;33m\u001b[0m\u001b[1;33m\u001b[0m\u001b[0m\n\u001b[0;32m     65\u001b[0m                     \u001b[1;32mif\u001b[0m \u001b[0mkey0\u001b[0m \u001b[1;33m==\u001b[0m \u001b[1;34m'четная нед.'\u001b[0m\u001b[1;33m:\u001b[0m\u001b[1;33m\u001b[0m\u001b[1;33m\u001b[0m\u001b[0m\n\u001b[1;32m---> 66\u001b[1;33m                         \u001b[0mpoint\u001b[0m\u001b[1;33m.\u001b[0m\u001b[0mupdate\u001b[0m\u001b[1;33m(\u001b[0m\u001b[1;33m{\u001b[0m\u001b[1;34m'№п/п четная нед.'\u001b[0m\u001b[1;33m:\u001b[0m \u001b[0mresult\u001b[0m\u001b[1;33m[\u001b[0m\u001b[1;34m'waypoints'\u001b[0m\u001b[1;33m]\u001b[0m\u001b[1;33m[\u001b[0m\u001b[0mindex\u001b[0m \u001b[1;33m+\u001b[0m \u001b[1;36m1\u001b[0m\u001b[1;33m]\u001b[0m\u001b[1;33m[\u001b[0m\u001b[1;34m'waypoint_index'\u001b[0m\u001b[1;33m]\u001b[0m\u001b[1;33m}\u001b[0m\u001b[1;33m)\u001b[0m\u001b[1;33m\u001b[0m\u001b[1;33m\u001b[0m\u001b[0m\n\u001b[0m\u001b[0;32m     67\u001b[0m                         \u001b[0mpoint\u001b[0m\u001b[1;33m.\u001b[0m\u001b[0mupdate\u001b[0m\u001b[1;33m(\u001b[0m\u001b[1;33m{\u001b[0m\u001b[1;34m'№п/п не четная нед.'\u001b[0m\u001b[1;33m:\u001b[0m \u001b[1;32mNone\u001b[0m\u001b[1;33m}\u001b[0m\u001b[1;33m)\u001b[0m\u001b[1;33m\u001b[0m\u001b[1;33m\u001b[0m\u001b[0m\n\u001b[0;32m     68\u001b[0m                     \u001b[1;32mif\u001b[0m \u001b[0mkey0\u001b[0m \u001b[1;33m==\u001b[0m \u001b[1;34m'не четная нед.'\u001b[0m\u001b[1;33m:\u001b[0m\u001b[1;33m\u001b[0m\u001b[1;33m\u001b[0m\u001b[0m\n",
      "\u001b[1;31mIndexError\u001b[0m: list index out of range"
     ]
    }
   ],
   "source": [
    "'''\n",
    "Расчет оптимальных пробегов для всех расписаний в папке\n",
    "На вход: путь к папке с файлами расписаний\n",
    "Вывод: таблицы с пробегами по каждому дню\n",
    "'''\n",
    "# Путь к папке с расписаниями\n",
    "path = 'C:\\\\Users\\\\andre\\\\OneDrive\\\\Рабочий стол\\\\sav\\\\DP\\\\Тест\\\\12'\n",
    "\n",
    "# Вызов функции\n",
    "calc_order_for_folder(path) "
   ]
  },
  {
   "cell_type": "code",
   "execution_count": null,
   "metadata": {},
   "outputs": [],
   "source": []
  }
 ],
 "metadata": {
  "kernelspec": {
   "display_name": "Python 3",
   "language": "python",
   "name": "python3"
  },
  "language_info": {
   "codemirror_mode": {
    "name": "ipython",
    "version": 3
   },
   "file_extension": ".py",
   "mimetype": "text/x-python",
   "name": "python",
   "nbconvert_exporter": "python",
   "pygments_lexer": "ipython3",
   "version": "3.7.3"
  }
 },
 "nbformat": 4,
 "nbformat_minor": 2
}
